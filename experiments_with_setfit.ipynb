{
 "cells": [
  {
   "cell_type": "markdown",
   "id": "2312bede-9ca0-4a83-9621-77f85e023256",
   "metadata": {},
   "source": [
    "# SetFit\n",
    "I want to build a classifier that can categorize a paragraph as containing relevant information.\n",
    "The way I'm going to do this is to build a small dataset of paragraphs which contain procedure data from PubMed\n",
    "and a small dataset of paragraphs which don't. <br>\n",
    "8 paragraphs positive and 8 paragraphs negative.\n",
    "These documents have to be less than 256 tokens in length.\n",
    "\n",
    "My test set will be the already extracted PubMed articles.\n",
    "\n",
    "### Types of classifiers\n",
    "1. Data containing arms and procedures details\n",
    "2. Data containing frequency of procedures details"
   ]
  },
  {
   "cell_type": "markdown",
   "id": "7c65a6c1-9d50-426d-98de-cd42960c096a",
   "metadata": {},
   "source": [
    "### Classifier for extracting arms and procedures"
   ]
  },
  {
   "cell_type": "code",
   "execution_count": 1,
   "id": "aacaa6d1-e190-462e-a19d-0760bba1908c",
   "metadata": {
    "tags": []
   },
   "outputs": [],
   "source": [
    "positive = [\n",
    "    \"Methods: Patients, stratified by age, sex, and smoking history, were randomized (2:1) to receive durvalumab, 10 mg/kg intravenously every 2 weeks, or placebo for up to 12 months. OS was analyzed by using a stratified log-rank test in the intention-to-treat population. Medians and rates at 12, 24, and 36 months were estimated by the Kaplan-Meier method. \",\n",
    "    \"The PACIFIC study design, eligibility criteria, and assessments have been fully described previously.7,8 Eligible patients had histologically and/or cytologically documented stage III unresectable NSCLC, with a WHO performance score of 0 or 1. Patients had to have received at least two cycles of platinum-based chemotherapy concurrently with definitive radiation therapy without progression, and the last radiation dose was administered 1 to 42 days before randomization. Tumor tissue collection was not a prerequisite for inclusion in PACIFIC and enrollment was not restricted to any threshold levels for PD-L1 expression. Patients were randomized 2:1 to receive durvalumab, 10 mg/kg intravenously, or placebo every 2 weeks for up to 12 months or until confirmed disease progression, initiation of alternative cancer therapy, unacceptable toxicity, or consent withdrawal. Randomization was stratified by age of the patient (<65 years versus ≥65 years), sex, and smoking history (current or former smoker versus never smoked).\",\n",
    "    \"Methods: Adults with RA of ≤5 years' duration were randomized to receive either usual care or the EXTRA program comprising 4 (1-hour) group education, self-management, and global upper extremity exercise training sessions supplementing the first 2 weeks of a 12-week individualized, functional home exercise regimen in addition to usual care. Outcome measures were assessed at baseline, 12 weeks (primary end point), and 36 weeks and included the Disabilities of the Arm, Shoulder, and Hand questionnaire (primary outcome measure), the Grip Ability Test, handgrip strength (N), the Arthritis Self-Efficacy Scale (pain, function, and symptoms subscales), and the 28-joint Disease Activity Score. \",\n",
    "    \" Patients on stable background MTX were randomised 2:2:1 to upadacitinib 15 mg, placebo or adalimumab 40 mg. Patients with an insufficient response were switched by week 26 from placebo to upadacitinib, upadacitinib to adalimumab or adalimumab to upadacitinib. Patients who completed the 48-week double-blind period could enter an LTE for up to 10 years. Safety and efficacy results were analysed here through 3 years. Treatment-emergent adverse events (AEs) were summarised based on exposure to upadacitinib and adalimumab. Efficacy was analysed by original randomised groups (non-responder imputation), as well as separately by treatment sequence (as observed). \",\n",
    "    \"SELECT-COMPARE included a 26-week, double-blind, placebo-controlled period, a 48-week, double-blind, active comparator-controlled period and an ongoing open-label LTE for an overall trial length of up to 10 years (online supplemental figure 1). Patients were randomised 2:2:1 to upadacitinib 15 mg once daily, placebo or adalimumab 40 mg every other week and continued to receive their background MTX dose. Patients not achieving sufficient clinical response were blindly rescued from placebo to upadacitinib, upadacitinib to adalimumab or adalimumab to upadacitinib within the first 26 weeks of the trial. Rescue occurred at week 14, 18 and 22 (for those who did not achieve at least 20% improvement in both tender joint counts (TJC) and swollen joint counts (SJC)) or week 26 (if LDA criteria were not met, defined by Clinical Disease Activity Index (CDAI) >10).\"\n",
    "    \"CONFIRM-HF was a multi-centre, double-blind, placebo-controlled trial that enrolled 304 ambulatory symptomatic HF patients with left ventricular ejection fraction ≤45%, elevated natriuretic peptides, and iron deficiency (ferritin <100 ng/mL or 100–300 ng/mL if transferrin saturation <20%). Patients were randomized 1 : 1 to treatment with i.v. iron, as ferric carboxymaltose (FCM, n = 152) or placebo (saline, n = 152) for 52 weeks. \",\n",
    "    \"Patients with type 2 diabetes (n = 80) were randomized into an exercise intervention with three groups: control, combined HIIT with RT and combined MCT with RT. The 1-year intervention had 3 weekly exercise sessions.\",\n",
    "    \"Fifty-one patients with diabetic neuropathy who had a recently healed plantar ulcer were randomized consecutively into the following two groups: therapeutic footwear with semi-rigid sole (control) or therapeutic footwear with a rigid rocker sole (experimental). All patients included in the study were followed up for 6 months (one visit each 30 ± 2 days) or until the development of a recurrence event. \"\n",
    "]"
   ]
  },
  {
   "cell_type": "code",
   "execution_count": 2,
   "id": "c230143b-0ed9-432a-84f7-d83ce0f7e6ef",
   "metadata": {
    "tags": []
   },
   "outputs": [],
   "source": [
    "negative = [\n",
    "    \"We recommend the use of therapeutic footwear with a rigid rocker sole in patients with diabetes with polyneuropathy and history of diabetic foot ulcer to reduce the risk of plantar ulcer recurrence. \",\n",
    "    \"Dr Xiping Xu reports grants from the National Key Research and Development Program (2016YFE0205400, 2018ZX09739010, 2018ZX09301034003), the Science and Technology Planning Project of Guangzhou, China (201707020010), the Science, Technology and Innovation Committee of Shenzhen (JSGG20170412155639040, GJHS20170314114526143, JSGG20180703155802047), the Economic, Trade and Information Commission of Shenzhen Municipality (20170505161556110, 20170505160926390). Dr Xianhui Qin reports grants from the National Natural Science Foundation of China (81730019, 81973133), Outstanding Youths Development Scheme of Nanfang Hospital, Southern Medical University (2017J009). The remaining authors have no disclosures to report.\",\n",
    "    \"This study assessed whether a single diabetic ketoacidosis (DKA) episode is associated with cognitive declines in children with newly diagnosed type 1 diabetes and whether the same is true in children who had previously been diagnosed after accounting for variations in glycemic control and other relevant factors. \",\n",
    "    \"Despite available interventions, people with type 2 diabetes (T2D) remain at risk of chronic kidney disease (CKD). Finerenone, a potent and selective nonsteroidal mineralocorticoid receptor antagonist, and sodium-glucose cotransporter 2 inhibitors (SGLT2is) can reduce both kidney and cardiovascular risks in people with CKD and T2D. Here we outline the design of a study to investigate whether dual therapy with finerenone and an SGLT2i is superior to either agent alone. \",\n",
    "    \"CONFIDENCE is evaluating the safety, tolerability and efficacy of dual use of finerenone and an SGLT2i in adults with CKD and T2D. Should an additive effect be shown, early and efficient intervention with dual finerenone and SGLT2i therapy could slow disease progression and provide long-term benefits for people with CKD and T2D. \",\n",
    "    \"Neoadjuvant chemotherapy plus nivolumab has been shown to be effective in resectable non-small-cell lung cancer (NSCLC) in the NADIM trial (ClinicalTrials.gov identifier: NCT03081689). The 3-year overall survival (OS) and circulating tumor DNA (ctDNA) analysis have not been reported. \",\n",
    "    \"The efficacy of neoadjuvant chemotherapy plus nivolumab in resectable NSCLC is supported by 3-year OS. ctDNA levels were significantly associated with OS and outperformed radiologic assessments in the prediction of survival. \",\n",
    "    \"OS at 36 months was 81.9% (95% CI, 66.8 to 90.6) in the intention-to-treat population, rising to 91.0% (95% CI, 74.2 to 97.0) in the per-protocol population. Neither tumor mutation burden nor programmed cell death ligand-1 staining was predictive of survival. Conversely, low pretreatment levels of ctDNA were significantly associated with improved progression-free survival and OS (hazard ratio [HR], 0.20; 95% CI, 0.06 to 0.63, and HR, 0.07; 95% CI, 0.01 to 0.39, respectively). \",\n",
    "    \"This report describes the baseline clinical profiles and management of DELIVER (Dapagliflozin Evaluation to Improve the Lives of Patients With Preserved Ejection Fraction Heart Failure) trial participants and how these compare with those in other contemporary heart failure with preserved ejection fraction trials. \",\n",
    "    \"DELIVER is the largest and broadest clinical trial of this population to date and enrolled high-risk, well-treated patients with HF with mildly reduced and preserved LVEF. (Dapagliflozin Evaluation to Improve the Lives of Patients With Preserved Ejection Fraction Heart Failure [NCT03619213]). \",\n",
    "    \"The bivalent omicron-containing vaccine mRNA-1273.214 elicited neutralizing antibody responses against omicron that were superior to those with mRNA-1273, without evident safety concerns. (Funded by Moderna; ClinicalTrials.gov number, NCT04927065.)\",\n",
    "    \"Severe acute respiratory syndrome coronavirus 2 (SARS-CoV-2) vaccines are safe and effective against coronavirus disease 2019 (Covid-19). In the Coronavirus Efficacy (COVE) trial, the mRNA-1273 vaccine (Moderna) had an acceptable safety profile and 93.2% efficacy against Covid-19 at a median of 5.3 months after the two-dose 100-μg primary series immunization.1,2\",\n",
    "    \"A two-dose regimen of the ChAdOx1 nCoV-19 vaccine did not show protection against mild-to-moderate Covid-19 due to the B.1.351 variant. (Funded by the Bill and Melinda Gates Foundation and others; ClinicalTrials.gov number, NCT04444674; Pan African Clinical Trials Registry number, PACTR202006922165132). \",\n",
    "]"
   ]
  },
  {
   "cell_type": "code",
   "execution_count": 3,
   "id": "138a731f-8873-4933-b2ce-b63ff3ccd1c1",
   "metadata": {
    "tags": []
   },
   "outputs": [
    {
     "name": "stdout",
     "output_type": "stream",
     "text": [
      "Intel MKL WARNING: Support of Intel(R) Streaming SIMD Extensions 4.2 (Intel(R) SSE4.2) enabled only processors has been deprecated. Intel oneAPI Math Kernel Library 2025.0 will require Intel(R) Advanced Vector Extensions (Intel(R) AVX) instructions.\n",
      "Intel MKL WARNING: Support of Intel(R) Streaming SIMD Extensions 4.2 (Intel(R) SSE4.2) enabled only processors has been deprecated. Intel oneAPI Math Kernel Library 2025.0 will require Intel(R) Advanced Vector Extensions (Intel(R) AVX) instructions.\n"
     ]
    },
    {
     "name": "stderr",
     "output_type": "stream",
     "text": [
      "/opt/anaconda3/envs/torch_gpu/lib/python3.8/site-packages/tqdm/auto.py:21: TqdmWarning: IProgress not found. Please update jupyter and ipywidgets. See https://ipywidgets.readthedocs.io/en/stable/user_install.html\n",
      "  from .autonotebook import tqdm as notebook_tqdm\n"
     ]
    }
   ],
   "source": [
    "from datasets import load_dataset"
   ]
  },
  {
   "cell_type": "code",
   "execution_count": 4,
   "id": "4ae2d1bf-f6e6-4319-bffd-c3b1fe6a5159",
   "metadata": {
    "tags": []
   },
   "outputs": [],
   "source": [
    "import pandas as pd\n",
    "text = positive + negative\n",
    "label = [1]*len(positive) + [0]*len(negative)\n",
    "label_text = ['contains clinical trial arms and procedures information']*len(positive) + ['does not contain clinical trial arms and procedures information']*len(negative)"
   ]
  },
  {
   "cell_type": "code",
   "execution_count": 5,
   "id": "bde05e33-e25f-4f4d-aded-64cf6ea3c647",
   "metadata": {
    "tags": []
   },
   "outputs": [],
   "source": [
    "df = pd.DataFrame({'text':text, 'label':label, 'label_text':label_text})"
   ]
  },
  {
   "cell_type": "code",
   "execution_count": 6,
   "id": "bd61a331-caab-47f0-b608-dfef7ea27515",
   "metadata": {
    "tags": []
   },
   "outputs": [
    {
     "data": {
      "text/html": [
       "<div>\n",
       "<style scoped>\n",
       "    .dataframe tbody tr th:only-of-type {\n",
       "        vertical-align: middle;\n",
       "    }\n",
       "\n",
       "    .dataframe tbody tr th {\n",
       "        vertical-align: top;\n",
       "    }\n",
       "\n",
       "    .dataframe thead th {\n",
       "        text-align: right;\n",
       "    }\n",
       "</style>\n",
       "<table border=\"1\" class=\"dataframe\">\n",
       "  <thead>\n",
       "    <tr style=\"text-align: right;\">\n",
       "      <th></th>\n",
       "      <th>text</th>\n",
       "      <th>label</th>\n",
       "      <th>label_text</th>\n",
       "    </tr>\n",
       "  </thead>\n",
       "  <tbody>\n",
       "    <tr>\n",
       "      <th>0</th>\n",
       "      <td>Methods: Patients, stratified by age, sex, and...</td>\n",
       "      <td>1</td>\n",
       "      <td>contains clinical trial arms and procedures in...</td>\n",
       "    </tr>\n",
       "    <tr>\n",
       "      <th>1</th>\n",
       "      <td>The PACIFIC study design, eligibility criteria...</td>\n",
       "      <td>1</td>\n",
       "      <td>contains clinical trial arms and procedures in...</td>\n",
       "    </tr>\n",
       "    <tr>\n",
       "      <th>2</th>\n",
       "      <td>Methods: Adults with RA of ≤5 years' duration ...</td>\n",
       "      <td>1</td>\n",
       "      <td>contains clinical trial arms and procedures in...</td>\n",
       "    </tr>\n",
       "    <tr>\n",
       "      <th>3</th>\n",
       "      <td>Patients on stable background MTX were random...</td>\n",
       "      <td>1</td>\n",
       "      <td>contains clinical trial arms and procedures in...</td>\n",
       "    </tr>\n",
       "    <tr>\n",
       "      <th>4</th>\n",
       "      <td>SELECT-COMPARE included a 26-week, double-blin...</td>\n",
       "      <td>1</td>\n",
       "      <td>contains clinical trial arms and procedures in...</td>\n",
       "    </tr>\n",
       "  </tbody>\n",
       "</table>\n",
       "</div>"
      ],
      "text/plain": [
       "                                                text  label   \n",
       "0  Methods: Patients, stratified by age, sex, and...      1  \\\n",
       "1  The PACIFIC study design, eligibility criteria...      1   \n",
       "2  Methods: Adults with RA of ≤5 years' duration ...      1   \n",
       "3   Patients on stable background MTX were random...      1   \n",
       "4  SELECT-COMPARE included a 26-week, double-blin...      1   \n",
       "\n",
       "                                          label_text  \n",
       "0  contains clinical trial arms and procedures in...  \n",
       "1  contains clinical trial arms and procedures in...  \n",
       "2  contains clinical trial arms and procedures in...  \n",
       "3  contains clinical trial arms and procedures in...  \n",
       "4  contains clinical trial arms and procedures in...  "
      ]
     },
     "execution_count": 6,
     "metadata": {},
     "output_type": "execute_result"
    }
   ],
   "source": [
    "df.head()"
   ]
  },
  {
   "cell_type": "code",
   "execution_count": 7,
   "id": "834621ba-8e5e-4a69-a661-9b78b8a4cf70",
   "metadata": {
    "tags": []
   },
   "outputs": [],
   "source": [
    "from datasets import Dataset\n",
    "train_ds = Dataset.from_pandas(df)"
   ]
  },
  {
   "cell_type": "code",
   "execution_count": 8,
   "id": "c3838a6a-0603-4ec7-92cd-31737f3ca4fa",
   "metadata": {
    "tags": []
   },
   "outputs": [
    {
     "data": {
      "text/plain": [
       "Dataset({\n",
       "    features: ['text', 'label', 'label_text'],\n",
       "    num_rows: 20\n",
       "})"
      ]
     },
     "execution_count": 8,
     "metadata": {},
     "output_type": "execute_result"
    }
   ],
   "source": [
    "train_ds"
   ]
  },
  {
   "cell_type": "code",
   "execution_count": 9,
   "id": "00f19782-8111-4cd2-9666-b6a20be4e9b0",
   "metadata": {
    "tags": []
   },
   "outputs": [],
   "source": [
    "test_positive = [\n",
    "    \"A pragmatic, multicenter, randomized‐controlled trial was conducted comparing treatment‐as‐usual (TAU) with MBCT + TAU in 106 chronically depressed outpatients who previously received pharmacotherapy (≥4 weeks) and psychological treatment (≥10 sessions)\",\n",
    "    \"With the use of an interactive Web-based system, participants in the trial were randomly assigned in a 1:1 ratio to receive 30 μg of BNT162b2 (0.3 ml volume per dose) or saline placebo. Participants received two injections, 21 days apart, of either BNT162b2 or placebo, delivered in the deltoid muscle. Site staff who were responsible for safety evaluation and were unaware of group assignments observed participants for 30 minutes after vaccination for any acute reactions.\",\n",
    "    \"After completion of the baseline measures, participants were randomized to MBCT + TAU or TAU only by means of a web‐based application that was specifically designed for this study by an independent statistician. Randomization was 1:1 to MBCT + TAU or TAU only, stratified for treatment center, and minimized for the severity of depressive symptoms (IDS‐SR: 21–31; 32–39; > 40) and chronicity (1–2 years, ≥2 years), without using block randomization.\",\n",
    "    \" French Confirmed COVID-19 patients were included in a single arm protocol from early March to March 16th, to receive 600mg of hydroxychloroquine daily and their viral load in nasopharyngeal swabs was tested daily in a hospital setting. Depending on their clinical presentation, azithromycin was added to the treatment. Untreated patients from another center and cases refusing the protocol were included as negative controls. Presence and absence of virus at Day6-post inclusion was considered the end point.\",\n",
    "    \"In this randomized, double-blind trial, we evaluated the efficacy of infliximab monotherapy, azathioprine monotherapy, and the two drugs combined in 508 adults with moderate-to-severe Crohn's disease who had not undergone previous immunosuppressive or biologic therapy. Patients were randomly assigned to receive an intravenous infusion of 5 mg of infliximab per kilogram of body weight at weeks 0, 2, and 6 and then every 8 weeks plus daily oral placebo capsules; 2.5 mg of oral azathioprine per kilogram daily plus a placebo infusion on the standard schedule; or combination therapy with the two drugs. Patients received study medication through week 30 and could continue in a blinded study extension through week 50. \"\n",
    "]\n",
    "\n",
    "test_negative = [\n",
    "    \"Patients with moderate-to-severe Crohn's disease who were treated with infliximab plus azathioprine or infliximab monotherapy were more likely to have a corticosteroid-free clinical remission than those receiving azathioprine monotherapy. \",\n",
    "    \"There is still a crucial need to develop and test therapies that can impair metastatic processes and target chemoresistant, tumor-initiating CSCs. Here, we reviewed the roles of NO as a critical molecule in regulating metastasis via PTMs, altering EMT programming, maintaining CSC populations, and driving obesity-associated metastasis. We also highlighted vital preclinical studies revealing that NOS inhibition can augment the efficacy of chemo/radiotherapy and immunotherapy in various solid tumors.\",\n",
    "    \"Rumination was assessed with the Ruminative Response Scale (RRS‐EXT; Raes & Hermans, 2007; Schoofs, Hermans, & Raes, 2010). Quality of life was assessed with the World Health Organization Quality of Life scale (Skevington, Lotfy, & O'Connell, 2004). Mindfulness skills and self‐compassion were assessed with the Five Facet Mindfulness Questionnaire (Baer et al., 2008) and the Self‐Compassion Scale (Neff, 2003), respectively. More information about these secondary outcome measures can be found in the published study protocol (Cladder‐Micus et al., 2015, pp. 5–6).\",\n",
    "    \"Adverse event analyses are provided for all enrolled 43,252 participants, with variable follow-up time after dose 1 (Table S3). More BNT162b2 recipients than placebo recipients reported any adverse event (27% and 12%, respectively) or a related adverse event (21% and 5%).\",\n",
    "    \"The findings from promising preclinical studies have spurred interest in the clinical translational of NOS-targeted therapies for various cancers (Tables 1 and 2). There are no NOS-based targeted therapies approved by the FDA. However, a few ongoing clinical trials have evaluated whether NOS inhibition via L-NMMA can boost the efficacy of taxane-based chemotherapies and immunotherapies and assess its influence on the TME (Table 3)\"\n",
    "]"
   ]
  },
  {
   "cell_type": "code",
   "execution_count": 10,
   "id": "1fe0ce15-1f05-4dac-afb2-ce8694bb6175",
   "metadata": {
    "tags": []
   },
   "outputs": [],
   "source": [
    "text = test_positive + test_negative\n",
    "label = [1]*len(test_positive) + [0]*len(test_negative)\n",
    "label_text = ['contains clinical trial arms and procedures information']*len(test_positive) + ['does not contain clinical trial arms and procedures information']*len(test_negative)\n",
    "df = pd.DataFrame({'text':text, 'label':label, 'label_text':label_text})\n",
    "test_ds = Dataset.from_pandas(df)"
   ]
  },
  {
   "cell_type": "code",
   "execution_count": 11,
   "id": "392c7cc7-d078-43f3-b49c-0b0f3b3a3b7d",
   "metadata": {
    "tags": []
   },
   "outputs": [
    {
     "data": {
      "text/plain": [
       "{'text': ['Methods: Patients, stratified by age, sex, and smoking history, were randomized (2:1) to receive durvalumab, 10 mg/kg intravenously every 2 weeks, or placebo for up to 12 months. OS was analyzed by using a stratified log-rank test in the intention-to-treat population. Medians and rates at 12, 24, and 36 months were estimated by the Kaplan-Meier method. ',\n",
       "  'The PACIFIC study design, eligibility criteria, and assessments have been fully described previously.7,8 Eligible patients had histologically and/or cytologically documented stage III unresectable NSCLC, with a WHO performance score of 0 or 1. Patients had to have received at least two cycles of platinum-based chemotherapy concurrently with definitive radiation therapy without progression, and the last radiation dose was administered 1 to 42 days before randomization. Tumor tissue collection was not a prerequisite for inclusion in PACIFIC and enrollment was not restricted to any threshold levels for PD-L1 expression. Patients were randomized 2:1 to receive durvalumab, 10 mg/kg intravenously, or placebo every 2 weeks for up to 12 months or until confirmed disease progression, initiation of alternative cancer therapy, unacceptable toxicity, or consent withdrawal. Randomization was stratified by age of the patient (<65 years versus ≥65 years), sex, and smoking history (current or former smoker versus never smoked).',\n",
       "  \"Methods: Adults with RA of ≤5 years' duration were randomized to receive either usual care or the EXTRA program comprising 4 (1-hour) group education, self-management, and global upper extremity exercise training sessions supplementing the first 2 weeks of a 12-week individualized, functional home exercise regimen in addition to usual care. Outcome measures were assessed at baseline, 12 weeks (primary end point), and 36 weeks and included the Disabilities of the Arm, Shoulder, and Hand questionnaire (primary outcome measure), the Grip Ability Test, handgrip strength (N), the Arthritis Self-Efficacy Scale (pain, function, and symptoms subscales), and the 28-joint Disease Activity Score. \",\n",
       "  ' Patients on stable background MTX were randomised 2:2:1 to upadacitinib 15 mg, placebo or adalimumab 40 mg. Patients with an insufficient response were switched by week 26 from placebo to upadacitinib, upadacitinib to adalimumab or adalimumab to upadacitinib. Patients who completed the 48-week double-blind period could enter an LTE for up to 10 years. Safety and efficacy results were analysed here through 3 years. Treatment-emergent adverse events (AEs) were summarised based on exposure to upadacitinib and adalimumab. Efficacy was analysed by original randomised groups (non-responder imputation), as well as separately by treatment sequence (as observed). ',\n",
       "  'SELECT-COMPARE included a 26-week, double-blind, placebo-controlled period, a 48-week, double-blind, active comparator-controlled period and an ongoing open-label LTE for an overall trial length of up to 10 years (online supplemental figure 1). Patients were randomised 2:2:1 to upadacitinib 15\\u2009mg once daily, placebo or adalimumab 40\\u2009mg every other week and continued to receive their background MTX dose. Patients not achieving sufficient clinical response were blindly rescued from placebo to upadacitinib, upadacitinib to adalimumab or adalimumab to upadacitinib within the first 26 weeks of the trial. Rescue occurred at week 14, 18 and 22 (for those who did not achieve at least 20% improvement in both tender joint counts (TJC) and swollen joint counts (SJC)) or week 26 (if LDA criteria were not met, defined by Clinical Disease Activity Index (CDAI) >10).CONFIRM-HF was a multi-centre, double-blind, placebo-controlled trial that enrolled 304 ambulatory symptomatic HF patients with left ventricular ejection fraction ≤45%, elevated natriuretic peptides, and iron deficiency (ferritin <100 ng/mL or 100–300 ng/mL if transferrin saturation <20%). Patients were randomized 1 : 1 to treatment with i.v. iron, as ferric carboxymaltose (FCM, n = 152) or placebo (saline, n = 152) for 52 weeks. ',\n",
       "  'Patients with type 2 diabetes (n\\u2009=\\u200980) were randomized into an exercise intervention with three groups: control, combined HIIT with RT and combined MCT with RT. The 1-year intervention had 3 weekly exercise sessions.',\n",
       "  'Fifty-one patients with diabetic neuropathy who had a recently healed plantar ulcer were randomized consecutively into the following two groups: therapeutic footwear with semi-rigid sole (control) or therapeutic footwear with a rigid rocker sole (experimental). All patients included in the study were followed up for 6 months (one visit each 30 ± 2 days) or until the development of a recurrence event. ',\n",
       "  'We recommend the use of therapeutic footwear with a rigid rocker sole in patients with diabetes with polyneuropathy and history of diabetic foot ulcer to reduce the risk of plantar ulcer recurrence. ',\n",
       "  'Dr Xiping Xu reports grants from the National Key Research and Development Program (2016YFE0205400, 2018ZX09739010, 2018ZX09301034003), the Science and Technology Planning Project of Guangzhou, China (201707020010), the Science, Technology and Innovation Committee of Shenzhen (JSGG20170412155639040, GJHS20170314114526143, JSGG20180703155802047), the Economic, Trade and Information Commission of Shenzhen Municipality (20170505161556110, 20170505160926390). Dr Xianhui Qin reports grants from the National Natural Science Foundation of China (81730019, 81973133), Outstanding Youths Development Scheme of Nanfang Hospital, Southern Medical University (2017J009). The remaining authors have no disclosures to report.',\n",
       "  'This study assessed whether a single diabetic ketoacidosis (DKA) episode is associated with cognitive declines in children with newly diagnosed type 1 diabetes and whether the same is true in children who had previously been diagnosed after accounting for variations in glycemic control and other relevant factors. ',\n",
       "  'Despite available interventions, people with type 2 diabetes (T2D) remain at risk of chronic kidney disease (CKD). Finerenone, a potent and selective nonsteroidal mineralocorticoid receptor antagonist, and sodium-glucose cotransporter 2 inhibitors (SGLT2is) can reduce both kidney and cardiovascular risks in people with CKD and T2D. Here we outline the design of a study to investigate whether dual therapy with finerenone and an SGLT2i is superior to either agent alone. ',\n",
       "  'CONFIDENCE is evaluating the safety, tolerability and efficacy of dual use of finerenone and an SGLT2i in adults with CKD and T2D. Should an additive effect be shown, early and efficient intervention with dual finerenone and SGLT2i therapy could slow disease progression and provide long-term benefits for people with CKD and T2D. ',\n",
       "  'Neoadjuvant chemotherapy plus nivolumab has been shown to be effective in resectable non-small-cell lung cancer (NSCLC) in the NADIM trial (ClinicalTrials.gov identifier: NCT03081689). The 3-year overall survival (OS) and circulating tumor DNA (ctDNA) analysis have not been reported. ',\n",
       "  'The efficacy of neoadjuvant chemotherapy plus nivolumab in resectable NSCLC is supported by 3-year OS. ctDNA levels were significantly associated with OS and outperformed radiologic assessments in the prediction of survival. ',\n",
       "  'OS at 36 months was 81.9% (95% CI, 66.8 to 90.6) in the intention-to-treat population, rising to 91.0% (95% CI, 74.2 to 97.0) in the per-protocol population. Neither tumor mutation burden nor programmed cell death ligand-1 staining was predictive of survival. Conversely, low pretreatment levels of ctDNA were significantly associated with improved progression-free survival and OS (hazard ratio [HR], 0.20; 95% CI, 0.06 to 0.63, and HR, 0.07; 95% CI, 0.01 to 0.39, respectively). ',\n",
       "  'This report describes the baseline clinical profiles and management of DELIVER (Dapagliflozin Evaluation to Improve the Lives of Patients With Preserved Ejection Fraction Heart Failure) trial participants and how these compare with those in other contemporary heart failure with preserved ejection fraction trials. ',\n",
       "  'DELIVER is the largest and broadest clinical trial of this population to date and enrolled high-risk, well-treated patients with HF with mildly reduced and preserved LVEF. (Dapagliflozin Evaluation to Improve the Lives of Patients With Preserved Ejection Fraction Heart Failure [NCT03619213]). ',\n",
       "  'The bivalent omicron-containing vaccine mRNA-1273.214 elicited neutralizing antibody responses against omicron that were superior to those with mRNA-1273, without evident safety concerns. (Funded by Moderna; ClinicalTrials.gov number, NCT04927065.)',\n",
       "  'Severe acute respiratory syndrome coronavirus 2 (SARS-CoV-2) vaccines are safe and effective against coronavirus disease 2019 (Covid-19). In the Coronavirus Efficacy (COVE) trial, the mRNA-1273 vaccine (Moderna) had an acceptable safety profile and 93.2% efficacy against Covid-19 at a median of 5.3 months after the two-dose 100-μg primary series immunization.1,2',\n",
       "  'A two-dose regimen of the ChAdOx1 nCoV-19 vaccine did not show protection against mild-to-moderate Covid-19 due to the B.1.351 variant. (Funded by the Bill and Melinda Gates Foundation and others; ClinicalTrials.gov number, NCT04444674; Pan African Clinical Trials Registry number, PACTR202006922165132). '],\n",
       " 'label': [1, 1, 1, 1, 1, 1, 1, 0, 0, 0, 0, 0, 0, 0, 0, 0, 0, 0, 0, 0],\n",
       " 'label_text': ['contains clinical trial arms and procedures information',\n",
       "  'contains clinical trial arms and procedures information',\n",
       "  'contains clinical trial arms and procedures information',\n",
       "  'contains clinical trial arms and procedures information',\n",
       "  'contains clinical trial arms and procedures information',\n",
       "  'contains clinical trial arms and procedures information',\n",
       "  'contains clinical trial arms and procedures information',\n",
       "  'does not contain clinical trial arms and procedures information',\n",
       "  'does not contain clinical trial arms and procedures information',\n",
       "  'does not contain clinical trial arms and procedures information',\n",
       "  'does not contain clinical trial arms and procedures information',\n",
       "  'does not contain clinical trial arms and procedures information',\n",
       "  'does not contain clinical trial arms and procedures information',\n",
       "  'does not contain clinical trial arms and procedures information',\n",
       "  'does not contain clinical trial arms and procedures information',\n",
       "  'does not contain clinical trial arms and procedures information',\n",
       "  'does not contain clinical trial arms and procedures information',\n",
       "  'does not contain clinical trial arms and procedures information',\n",
       "  'does not contain clinical trial arms and procedures information',\n",
       "  'does not contain clinical trial arms and procedures information']}"
      ]
     },
     "execution_count": 11,
     "metadata": {},
     "output_type": "execute_result"
    }
   ],
   "source": [
    "train_ds[:20]"
   ]
  },
  {
   "cell_type": "code",
   "execution_count": 12,
   "id": "c214fd51-997a-46dd-b2f4-0690e34412d4",
   "metadata": {
    "tags": []
   },
   "outputs": [
    {
     "name": "stderr",
     "output_type": "stream",
     "text": [
      "Found cached dataset json (/Users/ayushlall/.cache/huggingface/datasets/SetFit___json/SetFit--SentEval-CR-c9aa0d3185fe82a0/0.0.0/e347ab1c932092252e717ff3f949105a4dd28b27e842dd53157d2f72e276c2e4)\n",
      "100%|████████████████████████████████████████████| 2/2 [00:00<00:00, 263.68it/s]\n"
     ]
    }
   ],
   "source": [
    "dataset = load_dataset(\"SetFit/SentEval-CR\")"
   ]
  },
  {
   "cell_type": "code",
   "execution_count": 13,
   "id": "1357b4a3-3885-4386-8faa-67a726047661",
   "metadata": {
    "tags": []
   },
   "outputs": [
    {
     "data": {
      "text/plain": [
       "{'text': 'i have about 6 gb used on my ipod so far ( well over 1000 songs ) , and as far as i can tell , all of them play at near-cd quality .',\n",
       " 'label': 1,\n",
       " 'label_text': 'positive'}"
      ]
     },
     "execution_count": 13,
     "metadata": {},
     "output_type": "execute_result"
    }
   ],
   "source": [
    "dataset['train'][-100]"
   ]
  },
  {
   "cell_type": "code",
   "execution_count": 14,
   "id": "9f6c56b3-cd0d-47a3-ac71-c3b2a299adb6",
   "metadata": {
    "tags": []
   },
   "outputs": [
    {
     "name": "stderr",
     "output_type": "stream",
     "text": [
      "model_head.pkl not found on HuggingFace Hub, initialising classification head with random weights. You should TRAIN this model on a downstream task to use it for predictions and inference.\n"
     ]
    }
   ],
   "source": [
    "# Load SetFit model from Hub\n",
    "from sentence_transformers.losses import CosineSimilarityLoss\n",
    "from setfit import SetFitModel, SetFitTrainer\n",
    "\n",
    "model_id = \"pritamdeka/S-PubMedBert-MS-MARCO\"\n",
    "model = SetFitModel.from_pretrained(model_id, use_differentiable_head=True, head_params={\"out_features\": 2}).to('mps')\n",
    "\n",
    "# Create trainer\n",
    "trainer = SetFitTrainer(\n",
    "    model=model,\n",
    "    train_dataset=train_ds,\n",
    "    eval_dataset=test_ds,\n",
    "    loss_class=CosineSimilarityLoss,\n",
    "    batch_size=4,\n",
    "    num_iterations=10, # Number of text pairs to generate for contrastive learning\n",
    "    num_epochs=1 # Number of epochs to use for contrastive learning\n",
    ")"
   ]
  },
  {
   "cell_type": "code",
   "execution_count": 15,
   "id": "09fc2c55-9d1c-4571-9742-5950ddfd44fc",
   "metadata": {
    "tags": []
   },
   "outputs": [
    {
     "name": "stderr",
     "output_type": "stream",
     "text": [
      "Generating Training Pairs: 100%|██████████████| 10/10 [00:00<00:00, 1281.56it/s]\n",
      "***** Running training *****\n",
      "  Num examples = 400\n",
      "  Num epochs = 1\n",
      "  Total optimization steps = 100\n",
      "  Total train batch size = 4\n",
      "Epoch:   0%|                                              | 0/1 [00:00<?, ?it/s]\n",
      "Iteration:   0%|                                        | 0/100 [00:00<?, ?it/s]\u001b[A\n",
      "Iteration:   1%|▎                               | 1/100 [00:03<05:02,  3.06s/it]\u001b[A\n",
      "Iteration:   2%|▋                               | 2/100 [00:04<03:49,  2.34s/it]\u001b[A\n",
      "Iteration:   3%|▉                               | 3/100 [00:06<03:24,  2.11s/it]\u001b[A\n",
      "Iteration:   4%|█▎                              | 4/100 [00:09<03:38,  2.27s/it]\u001b[A\n",
      "Iteration:   5%|█▌                              | 5/100 [00:10<03:18,  2.09s/it]\u001b[A\n",
      "Iteration:   6%|█▉                              | 6/100 [00:16<04:30,  2.88s/it]\u001b[A\n",
      "Iteration:   7%|██▏                             | 7/100 [00:24<05:44,  3.71s/it]\u001b[A\n",
      "Iteration:   8%|██▌                             | 8/100 [00:30<06:14,  4.07s/it]\u001b[A\n",
      "Iteration:   9%|██▉                             | 9/100 [00:39<07:11,  4.74s/it]\u001b[A\n",
      "Iteration:  10%|███                            | 10/100 [00:44<07:07,  4.74s/it]\u001b[A\n",
      "Iteration:  11%|███▍                           | 11/100 [00:49<07:05,  4.78s/it]\u001b[A\n",
      "Iteration:  12%|███▋                           | 12/100 [00:57<07:27,  5.09s/it]\u001b[A\n",
      "Iteration:  13%|████                           | 13/100 [01:03<07:29,  5.17s/it]\u001b[A\n",
      "Iteration:  14%|████▎                          | 14/100 [01:11<07:50,  5.47s/it]\u001b[A\n",
      "Iteration:  15%|████▋                          | 15/100 [01:17<07:51,  5.55s/it]\u001b[A\n",
      "Iteration:  16%|████▉                          | 16/100 [01:28<08:24,  6.00s/it]\u001b[A\n",
      "Iteration:  17%|█████▎                         | 17/100 [01:38<08:49,  6.39s/it]\u001b[A\n",
      "Iteration:  18%|█████▌                         | 18/100 [01:45<08:47,  6.44s/it]\u001b[A\n",
      "Iteration:  19%|█████▉                         | 19/100 [01:50<08:32,  6.33s/it]\u001b[A\n",
      "Iteration:  20%|██████▏                        | 20/100 [01:59<08:40,  6.51s/it]\u001b[A\n",
      "Iteration:  21%|██████▌                        | 21/100 [02:07<08:44,  6.64s/it]\u001b[A\n",
      "Iteration:  22%|██████▊                        | 22/100 [02:14<08:35,  6.61s/it]\u001b[A\n",
      "Iteration:  23%|███████▏                       | 23/100 [02:20<08:27,  6.59s/it]\u001b[A\n",
      "Iteration:  24%|███████▍                       | 24/100 [02:25<08:11,  6.47s/it]\u001b[A\n",
      "Iteration:  25%|███████▊                       | 25/100 [02:30<08:00,  6.41s/it]\u001b[A\n",
      "Iteration:  26%|████████                       | 26/100 [02:36<07:48,  6.33s/it]\u001b[A\n",
      "Iteration:  27%|████████▎                      | 27/100 [03:27<11:19,  9.30s/it]\u001b[A\n",
      "Iteration:  28%|████████▋                      | 28/100 [03:53<12:31, 10.44s/it]\u001b[A\n",
      "Iteration:  29%|████████▉                      | 29/100 [04:26<14:04, 11.90s/it]\u001b[A\n",
      "Iteration:  30%|█████████▎                     | 30/100 [05:02<15:38, 13.41s/it]\u001b[A\n",
      "Iteration:  31%|█████████▌                     | 31/100 [06:17<19:54, 17.31s/it]\u001b[A\n",
      "Iteration:  32%|█████████▉                     | 32/100 [06:40<19:59, 17.63s/it]\u001b[A\n",
      "Iteration:  33%|██████████▏                    | 33/100 [07:00<19:53, 17.81s/it]\u001b[A\n",
      "Iteration:  34%|██████████▌                    | 34/100 [07:51<21:45, 19.78s/it]\u001b[A\n",
      "Iteration:  35%|██████████▊                    | 35/100 [08:18<21:55, 20.23s/it]\u001b[A\n",
      "Iteration:  36%|███████████▏                   | 36/100 [08:37<21:31, 20.18s/it]\u001b[A\n",
      "Iteration:  37%|███████████▍                   | 37/100 [09:30<23:09, 22.06s/it]\u001b[A\n",
      "Iteration:  38%|███████████▊                   | 38/100 [10:08<23:46, 23.02s/it]\u001b[A\n",
      "Iteration:  39%|████████████                   | 39/100 [10:34<23:35, 23.20s/it]\u001b[A\n",
      "Iteration:  40%|████████████▍                  | 40/100 [10:51<22:48, 22.81s/it]\u001b[A\n",
      "Iteration:  41%|████████████▋                  | 41/100 [11:16<22:33, 22.94s/it]\u001b[A\n",
      "Iteration:  42%|█████████████                  | 42/100 [11:35<21:57, 22.72s/it]\u001b[A\n",
      "Iteration:  43%|█████████████▎                 | 43/100 [12:13<22:24, 23.59s/it]\u001b[A\n",
      "Iteration:  44%|█████████████▋                 | 44/100 [12:42<22:18, 23.90s/it]\u001b[A\n",
      "Iteration:  45%|█████████████▉                 | 45/100 [13:02<21:41, 23.67s/it]\u001b[A\n",
      "Iteration:  46%|██████████████▎                | 46/100 [13:23<21:09, 23.51s/it]\u001b[A\n",
      "Iteration:  47%|██████████████▌                | 47/100 [13:39<20:26, 23.14s/it]\u001b[A\n",
      "Iteration:  48%|██████████████▉                | 48/100 [14:08<20:17, 23.42s/it]\u001b[A\n",
      "Iteration:  49%|███████████████▏               | 49/100 [14:48<20:40, 24.33s/it]\u001b[A\n",
      "Iteration:  50%|███████████████▌               | 50/100 [15:08<20:04, 24.09s/it]\u001b[A\n",
      "Iteration:  51%|███████████████▊               | 51/100 [15:44<20:11, 24.73s/it]\u001b[A\n",
      "Iteration:  52%|████████████████               | 52/100 [16:04<19:35, 24.50s/it]\u001b[A\n",
      "Iteration:  53%|████████████████▍              | 53/100 [16:42<19:45, 25.22s/it]\u001b[A\n",
      "Iteration:  54%|████████████████▋              | 54/100 [17:05<19:15, 25.12s/it]\u001b[A\n",
      "Iteration:  55%|█████████████████              | 55/100 [17:32<18:53, 25.19s/it]\u001b[A\n",
      "Iteration:  56%|█████████████████▎             | 56/100 [17:51<18:13, 24.85s/it]\u001b[A\n",
      "Iteration:  57%|█████████████████▋             | 57/100 [18:13<17:43, 24.73s/it]\u001b[A\n",
      "Iteration:  58%|█████████████████▉             | 58/100 [19:03<18:14, 26.05s/it]\u001b[A\n",
      "Iteration:  59%|██████████████████▎            | 59/100 [19:26<17:41, 25.89s/it]\u001b[A\n",
      "Iteration:  60%|██████████████████▌            | 60/100 [19:49<17:10, 25.76s/it]\u001b[A\n",
      "Iteration:  61%|██████████████████▉            | 61/100 [20:12<16:37, 25.57s/it]\u001b[A\n",
      "Iteration:  62%|███████████████████▏           | 62/100 [20:31<16:00, 25.28s/it]\u001b[A\n",
      "Iteration:  63%|███████████████████▌           | 63/100 [20:41<15:05, 24.48s/it]\u001b[A\n",
      "Iteration:  64%|███████████████████▊           | 64/100 [21:01<14:32, 24.22s/it]\u001b[A\n",
      "Iteration:  65%|████████████████████▏          | 65/100 [21:10<13:41, 23.46s/it]\u001b[A\n",
      "Iteration:  66%|████████████████████▍          | 66/100 [21:56<13:55, 24.58s/it]\u001b[A\n",
      "Iteration:  67%|████████████████████▊          | 67/100 [22:15<13:22, 24.32s/it]\u001b[A\n",
      "Iteration:  68%|█████████████████████          | 68/100 [22:30<12:42, 23.83s/it]\u001b[A\n",
      "Iteration:  69%|█████████████████████▍         | 69/100 [22:53<12:17, 23.79s/it]\u001b[A\n",
      "Iteration:  70%|█████████████████████▋         | 70/100 [23:15<11:50, 23.70s/it]\u001b[A\n",
      "Iteration:  71%|██████████████████████         | 71/100 [23:31<11:15, 23.30s/it]\u001b[A\n",
      "Iteration:  72%|██████████████████████▎        | 72/100 [23:45<10:38, 22.81s/it]\u001b[A\n",
      "Iteration:  73%|██████████████████████▋        | 73/100 [24:26<10:41, 23.77s/it]\u001b[A\n",
      "Iteration:  74%|██████████████████████▉        | 74/100 [24:48<10:15, 23.66s/it]\u001b[A\n",
      "Iteration:  75%|███████████████████████▎       | 75/100 [25:09<09:48, 23.55s/it]\u001b[A\n",
      "Iteration:  76%|███████████████████████▌       | 76/100 [25:30<09:21, 23.38s/it]\u001b[A\n",
      "Iteration:  77%|███████████████████████▊       | 77/100 [25:52<08:57, 23.35s/it]\u001b[A\n",
      "Iteration:  78%|████████████████████████▏      | 78/100 [26:08<08:25, 22.96s/it]\u001b[A\n",
      "Iteration:  79%|████████████████████████▍      | 79/100 [26:38<08:09, 23.29s/it]\u001b[A\n",
      "Iteration:  80%|████████████████████████▊      | 80/100 [27:23<08:08, 24.40s/it]\u001b[A\n",
      "Iteration:  81%|█████████████████████████      | 81/100 [27:44<07:41, 24.27s/it]\u001b[A\n",
      "Iteration:  82%|█████████████████████████▍     | 82/100 [28:10<07:17, 24.33s/it]\u001b[A\n",
      "Iteration:  83%|█████████████████████████▋     | 83/100 [28:36<06:55, 24.43s/it]\u001b[A\n",
      "Iteration:  84%|██████████████████████████     | 84/100 [28:51<06:22, 23.93s/it]\u001b[A\n",
      "Iteration:  85%|██████████████████████████▎    | 85/100 [29:20<06:02, 24.19s/it]\u001b[A\n",
      "Iteration:  86%|██████████████████████████▋    | 86/100 [29:40<05:35, 23.98s/it]\u001b[A\n",
      "Iteration:  87%|██████████████████████████▉    | 87/100 [30:01<05:09, 23.82s/it]\u001b[A\n",
      "Iteration:  88%|███████████████████████████▎   | 88/100 [30:27<04:47, 23.94s/it]\u001b[A\n",
      "Iteration:  89%|███████████████████████████▌   | 89/100 [30:49<04:22, 23.86s/it]\u001b[A\n",
      "Iteration:  90%|███████████████████████████▉   | 90/100 [31:15<03:59, 23.95s/it]\u001b[A\n",
      "Iteration:  91%|████████████████████████████▏  | 91/100 [31:47<03:39, 24.37s/it]\u001b[A\n",
      "Iteration:  92%|████████████████████████████▌  | 92/100 [32:07<03:13, 24.14s/it]\u001b[A\n",
      "Iteration:  93%|████████████████████████████▊  | 93/100 [32:38<02:51, 24.48s/it]\u001b[A\n",
      "Iteration:  94%|█████████████████████████████▏ | 94/100 [32:54<02:24, 24.08s/it]\u001b[A\n",
      "Iteration:  95%|█████████████████████████████▍ | 95/100 [33:16<01:59, 23.97s/it]\u001b[A\n",
      "Iteration:  96%|█████████████████████████████▊ | 96/100 [33:37<01:35, 23.79s/it]\u001b[A\n",
      "Iteration:  97%|██████████████████████████████ | 97/100 [33:58<01:11, 23.68s/it]\u001b[A\n",
      "Iteration:  98%|██████████████████████████████▍| 98/100 [34:19<00:47, 23.55s/it]\u001b[A\n",
      "Iteration:  99%|██████████████████████████████▋| 99/100 [35:11<00:24, 24.96s/it]\u001b[A\n",
      "Iteration: 100%|██████████████████████████████| 100/100 [35:27<00:00, 21.27s/it]\u001b[A\n",
      "Epoch: 100%|████████████████████████████████████| 1/1 [35:27<00:00, 2127.31s/it]\n",
      "***** Running evaluation *****\n",
      "Downloading builder script: 100%|███████████| 4.20k/4.20k [00:00<00:00, 838kB/s]\n"
     ]
    }
   ],
   "source": [
    "trainer.train()\n",
    "metrics = trainer.evaluate()"
   ]
  },
  {
   "cell_type": "code",
   "execution_count": 16,
   "id": "7636f26c-5027-4e5b-b216-dc5546b31a4a",
   "metadata": {
    "tags": []
   },
   "outputs": [],
   "source": [
    "preds = model([\"i loved the spiderman movie!\", \"pineapple on pizza is the worst 🤮\"])"
   ]
  },
  {
   "cell_type": "code",
   "execution_count": 17,
   "id": "bcc92d97-a67d-463c-86e5-af5ef9736720",
   "metadata": {
    "tags": []
   },
   "outputs": [
    {
     "ename": "AttributeError",
     "evalue": "'SetFitModel' object has no attribute 'save_model'",
     "output_type": "error",
     "traceback": [
      "\u001b[0;31m---------------------------------------------------------------------------\u001b[0m",
      "\u001b[0;31mAttributeError\u001b[0m                            Traceback (most recent call last)",
      "Cell \u001b[0;32mIn[17], line 1\u001b[0m\n\u001b[0;32m----> 1\u001b[0m \u001b[43mmodel\u001b[49m\u001b[38;5;241;43m.\u001b[39;49m\u001b[43msave_model\u001b[49m(\u001b[38;5;124m'\u001b[39m\u001b[38;5;124msbert-setfit-v1\u001b[39m\u001b[38;5;124m'\u001b[39m)\n",
      "\u001b[0;31mAttributeError\u001b[0m: 'SetFitModel' object has no attribute 'save_model'"
     ]
    }
   ],
   "source": [
    "model.save_model('sbert-setfit-v1')"
   ]
  },
  {
   "cell_type": "code",
   "execution_count": 18,
   "id": "604ed231-7660-4cb6-bb17-d2fdb39b81b1",
   "metadata": {
    "tags": []
   },
   "outputs": [
    {
     "data": {
      "text/plain": [
       "{'accuracy': 0.4}"
      ]
     },
     "execution_count": 18,
     "metadata": {},
     "output_type": "execute_result"
    }
   ],
   "source": [
    "metrics"
   ]
  },
  {
   "cell_type": "markdown",
   "id": "e24059b2-e818-4d9a-8cd9-9a6303177f2c",
   "metadata": {},
   "source": [
    "### Conclusion\n",
    "Not very good. More experiments can be done of course to improve this performance but it doesn't seem very likely to me."
   ]
  },
  {
   "cell_type": "code",
   "execution_count": null,
   "id": "dd7a9133-e26d-4291-8d9b-241018e1ef47",
   "metadata": {},
   "outputs": [],
   "source": []
  }
 ],
 "metadata": {
  "kernelspec": {
   "display_name": "Python 3 (ipykernel)",
   "language": "python",
   "name": "python3"
  },
  "language_info": {
   "codemirror_mode": {
    "name": "ipython",
    "version": 3
   },
   "file_extension": ".py",
   "mimetype": "text/x-python",
   "name": "python",
   "nbconvert_exporter": "python",
   "pygments_lexer": "ipython3",
   "version": "3.8.16"
  }
 },
 "nbformat": 4,
 "nbformat_minor": 5
}
